{
 "cells": [
  {
   "cell_type": "code",
   "execution_count": 1,
   "id": "9e39b992",
   "metadata": {},
   "outputs": [],
   "source": [
    "import pandas as pd\n",
    "import numpy as np\n",
    "import seaborn as sns\n",
    "import numpy as np\n",
    "import matplotlib.pyplot as plt"
   ]
  },
  {
   "cell_type": "code",
   "execution_count": 2,
   "id": "859b7695",
   "metadata": {},
   "outputs": [
    {
     "data": {
      "text/html": [
       "<div>\n",
       "<style scoped>\n",
       "    .dataframe tbody tr th:only-of-type {\n",
       "        vertical-align: middle;\n",
       "    }\n",
       "\n",
       "    .dataframe tbody tr th {\n",
       "        vertical-align: top;\n",
       "    }\n",
       "\n",
       "    .dataframe thead th {\n",
       "        text-align: right;\n",
       "    }\n",
       "</style>\n",
       "<table border=\"1\" class=\"dataframe\">\n",
       "  <thead>\n",
       "    <tr style=\"text-align: right;\">\n",
       "      <th></th>\n",
       "      <th>gender</th>\n",
       "      <th>race/ethnicity</th>\n",
       "      <th>parental level of education</th>\n",
       "      <th>lunch</th>\n",
       "      <th>test preparation course</th>\n",
       "      <th>math score</th>\n",
       "      <th>reading score</th>\n",
       "      <th>writing score</th>\n",
       "    </tr>\n",
       "  </thead>\n",
       "  <tbody>\n",
       "    <tr>\n",
       "      <th>0</th>\n",
       "      <td>male</td>\n",
       "      <td>group D</td>\n",
       "      <td>associate's degree</td>\n",
       "      <td>standard</td>\n",
       "      <td>none</td>\n",
       "      <td>49</td>\n",
       "      <td>45</td>\n",
       "      <td>45</td>\n",
       "    </tr>\n",
       "    <tr>\n",
       "      <th>1</th>\n",
       "      <td>male</td>\n",
       "      <td>group C</td>\n",
       "      <td>high school</td>\n",
       "      <td>free/reduced</td>\n",
       "      <td>none</td>\n",
       "      <td>50</td>\n",
       "      <td>41</td>\n",
       "      <td>35</td>\n",
       "    </tr>\n",
       "    <tr>\n",
       "      <th>2</th>\n",
       "      <td>male</td>\n",
       "      <td>group C</td>\n",
       "      <td>some high school</td>\n",
       "      <td>standard</td>\n",
       "      <td>completed</td>\n",
       "      <td>61</td>\n",
       "      <td>70</td>\n",
       "      <td>64</td>\n",
       "    </tr>\n",
       "    <tr>\n",
       "      <th>3</th>\n",
       "      <td>female</td>\n",
       "      <td>group C</td>\n",
       "      <td>bachelor's degree</td>\n",
       "      <td>standard</td>\n",
       "      <td>none</td>\n",
       "      <td>66</td>\n",
       "      <td>73</td>\n",
       "      <td>69</td>\n",
       "    </tr>\n",
       "    <tr>\n",
       "      <th>4</th>\n",
       "      <td>male</td>\n",
       "      <td>group C</td>\n",
       "      <td>some college</td>\n",
       "      <td>standard</td>\n",
       "      <td>completed</td>\n",
       "      <td>59</td>\n",
       "      <td>53</td>\n",
       "      <td>57</td>\n",
       "    </tr>\n",
       "  </tbody>\n",
       "</table>\n",
       "</div>"
      ],
      "text/plain": [
       "   gender race/ethnicity parental level of education         lunch  \\\n",
       "0    male        group D          associate's degree      standard   \n",
       "1    male        group C                 high school  free/reduced   \n",
       "2    male        group C            some high school      standard   \n",
       "3  female        group C           bachelor's degree      standard   \n",
       "4    male        group C                some college      standard   \n",
       "\n",
       "  test preparation course  math score  reading score  writing score  \n",
       "0                    none          49             45             45  \n",
       "1                    none          50             41             35  \n",
       "2               completed          61             70             64  \n",
       "3                    none          66             73             69  \n",
       "4               completed          59             53             57  "
      ]
     },
     "execution_count": 2,
     "metadata": {},
     "output_type": "execute_result"
    }
   ],
   "source": [
    "Data = pd.read_csv('exams.csv')\n",
    "Data.head()"
   ]
  },
  {
   "cell_type": "code",
   "execution_count": 3,
   "id": "ec466d41",
   "metadata": {
    "scrolled": false
   },
   "outputs": [
    {
     "data": {
      "text/html": [
       "<div>\n",
       "<style scoped>\n",
       "    .dataframe tbody tr th:only-of-type {\n",
       "        vertical-align: middle;\n",
       "    }\n",
       "\n",
       "    .dataframe tbody tr th {\n",
       "        vertical-align: top;\n",
       "    }\n",
       "\n",
       "    .dataframe thead th {\n",
       "        text-align: right;\n",
       "    }\n",
       "</style>\n",
       "<table border=\"1\" class=\"dataframe\">\n",
       "  <thead>\n",
       "    <tr style=\"text-align: right;\">\n",
       "      <th></th>\n",
       "      <th>gender</th>\n",
       "      <th>race/ethnicity</th>\n",
       "      <th>parental level of education</th>\n",
       "      <th>lunch</th>\n",
       "      <th>test preparation course</th>\n",
       "      <th>math score</th>\n",
       "      <th>reading score</th>\n",
       "      <th>writing score</th>\n",
       "    </tr>\n",
       "  </thead>\n",
       "  <tbody>\n",
       "    <tr>\n",
       "      <th>0</th>\n",
       "      <td>male</td>\n",
       "      <td>group D</td>\n",
       "      <td>associate's degree</td>\n",
       "      <td>standard</td>\n",
       "      <td>none</td>\n",
       "      <td>49</td>\n",
       "      <td>45</td>\n",
       "      <td>45</td>\n",
       "    </tr>\n",
       "    <tr>\n",
       "      <th>1</th>\n",
       "      <td>male</td>\n",
       "      <td>group C</td>\n",
       "      <td>high school</td>\n",
       "      <td>free/reduced</td>\n",
       "      <td>none</td>\n",
       "      <td>50</td>\n",
       "      <td>41</td>\n",
       "      <td>35</td>\n",
       "    </tr>\n",
       "    <tr>\n",
       "      <th>2</th>\n",
       "      <td>male</td>\n",
       "      <td>group C</td>\n",
       "      <td>some high school</td>\n",
       "      <td>standard</td>\n",
       "      <td>completed</td>\n",
       "      <td>61</td>\n",
       "      <td>70</td>\n",
       "      <td>64</td>\n",
       "    </tr>\n",
       "    <tr>\n",
       "      <th>3</th>\n",
       "      <td>female</td>\n",
       "      <td>group C</td>\n",
       "      <td>bachelor's degree</td>\n",
       "      <td>standard</td>\n",
       "      <td>none</td>\n",
       "      <td>66</td>\n",
       "      <td>73</td>\n",
       "      <td>69</td>\n",
       "    </tr>\n",
       "    <tr>\n",
       "      <th>4</th>\n",
       "      <td>male</td>\n",
       "      <td>group C</td>\n",
       "      <td>some college</td>\n",
       "      <td>standard</td>\n",
       "      <td>completed</td>\n",
       "      <td>59</td>\n",
       "      <td>53</td>\n",
       "      <td>57</td>\n",
       "    </tr>\n",
       "    <tr>\n",
       "      <th>...</th>\n",
       "      <td>...</td>\n",
       "      <td>...</td>\n",
       "      <td>...</td>\n",
       "      <td>...</td>\n",
       "      <td>...</td>\n",
       "      <td>...</td>\n",
       "      <td>...</td>\n",
       "      <td>...</td>\n",
       "    </tr>\n",
       "    <tr>\n",
       "      <th>995</th>\n",
       "      <td>female</td>\n",
       "      <td>group D</td>\n",
       "      <td>high school</td>\n",
       "      <td>free/reduced</td>\n",
       "      <td>none</td>\n",
       "      <td>46</td>\n",
       "      <td>64</td>\n",
       "      <td>59</td>\n",
       "    </tr>\n",
       "    <tr>\n",
       "      <th>996</th>\n",
       "      <td>male</td>\n",
       "      <td>group C</td>\n",
       "      <td>some high school</td>\n",
       "      <td>free/reduced</td>\n",
       "      <td>none</td>\n",
       "      <td>72</td>\n",
       "      <td>74</td>\n",
       "      <td>68</td>\n",
       "    </tr>\n",
       "    <tr>\n",
       "      <th>997</th>\n",
       "      <td>female</td>\n",
       "      <td>group D</td>\n",
       "      <td>bachelor's degree</td>\n",
       "      <td>standard</td>\n",
       "      <td>none</td>\n",
       "      <td>50</td>\n",
       "      <td>58</td>\n",
       "      <td>53</td>\n",
       "    </tr>\n",
       "    <tr>\n",
       "      <th>998</th>\n",
       "      <td>female</td>\n",
       "      <td>group A</td>\n",
       "      <td>associate's degree</td>\n",
       "      <td>standard</td>\n",
       "      <td>none</td>\n",
       "      <td>55</td>\n",
       "      <td>55</td>\n",
       "      <td>63</td>\n",
       "    </tr>\n",
       "    <tr>\n",
       "      <th>999</th>\n",
       "      <td>female</td>\n",
       "      <td>group B</td>\n",
       "      <td>bachelor's degree</td>\n",
       "      <td>standard</td>\n",
       "      <td>completed</td>\n",
       "      <td>68</td>\n",
       "      <td>81</td>\n",
       "      <td>78</td>\n",
       "    </tr>\n",
       "  </tbody>\n",
       "</table>\n",
       "<p>1000 rows × 8 columns</p>\n",
       "</div>"
      ],
      "text/plain": [
       "     gender race/ethnicity parental level of education         lunch  \\\n",
       "0      male        group D          associate's degree      standard   \n",
       "1      male        group C                 high school  free/reduced   \n",
       "2      male        group C            some high school      standard   \n",
       "3    female        group C           bachelor's degree      standard   \n",
       "4      male        group C                some college      standard   \n",
       "..      ...            ...                         ...           ...   \n",
       "995  female        group D                 high school  free/reduced   \n",
       "996    male        group C            some high school  free/reduced   \n",
       "997  female        group D           bachelor's degree      standard   \n",
       "998  female        group A          associate's degree      standard   \n",
       "999  female        group B           bachelor's degree      standard   \n",
       "\n",
       "    test preparation course  math score  reading score  writing score  \n",
       "0                      none          49             45             45  \n",
       "1                      none          50             41             35  \n",
       "2                 completed          61             70             64  \n",
       "3                      none          66             73             69  \n",
       "4                 completed          59             53             57  \n",
       "..                      ...         ...            ...            ...  \n",
       "995                    none          46             64             59  \n",
       "996                    none          72             74             68  \n",
       "997                    none          50             58             53  \n",
       "998                    none          55             55             63  \n",
       "999               completed          68             81             78  \n",
       "\n",
       "[1000 rows x 8 columns]"
      ]
     },
     "execution_count": 3,
     "metadata": {},
     "output_type": "execute_result"
    }
   ],
   "source": [
    "df = Data.copy()\n",
    "df"
   ]
  },
  {
   "cell_type": "markdown",
   "id": "35c68bb2",
   "metadata": {},
   "source": [
    "### Data Cleaning"
   ]
  },
  {
   "cell_type": "markdown",
   "id": "b8a54ebb",
   "metadata": {},
   "source": [
    "#### Encording Categorical Datasets"
   ]
  },
  {
   "cell_type": "code",
   "execution_count": 4,
   "id": "2efc06a9",
   "metadata": {},
   "outputs": [],
   "source": [
    "df['race/ethnicity']=df['race/ethnicity'].str.split(' ').str[1]\n",
    "df1 = pd.DataFrame()"
   ]
  },
  {
   "cell_type": "code",
   "execution_count": 6,
   "id": "e0d80948",
   "metadata": {},
   "outputs": [],
   "source": [
    "male = pd.get_dummies(df['gender'],drop_first=True)\n",
    "standard = pd.get_dummies(df['lunch'],drop_first=True)\n",
    "none = pd.get_dummies(df['test preparation course'],drop_first=True)\n",
    "def EdLevel(x):\n",
    "    if x=='high school':\n",
    "        return 1\n",
    "    elif x == 'some high school':\n",
    "        return 2\n",
    "    elif x == 'some college':\n",
    "        return 3\n",
    "    elif x== \"associate's degree\":\n",
    "        return 4\n",
    "    elif x == \"bachelor's degree\":\n",
    "        return 5\n",
    "    else:\n",
    "        return 6\n",
    "def race(x):\n",
    "    if x=='A':\n",
    "        return 1\n",
    "    elif x == 'B':\n",
    "        return 2\n",
    "    elif x == 'C':\n",
    "        return 3\n",
    "    elif x== \"D\":\n",
    "        return 4\n",
    "    else:\n",
    "        return 5"
   ]
  },
  {
   "cell_type": "code",
   "execution_count": 7,
   "id": "5fa586d0",
   "metadata": {},
   "outputs": [],
   "source": [
    "# Features\n",
    "Features = ['Gender(male)', 'lunch(standard)', 'TestPreparation(none)','ParentEdLevel', 'Race(group)']\n",
    "\n",
    "df1=pd.concat([df1,male,standard,none],axis=1)\n",
    "df1['race']=df['race/ethnicity'].apply(race)\n",
    "df1['ParentEdLevel'] = df['parental level of education'].apply(EdLevel)\n",
    "\n",
    "maths_label=pd.cut(df['math score'],bins=[0,49,59,69,79,100],labels=[5,4,3,2,1])\n",
    "reading_label = pd.cut(df['reading score'],bins=[0,49,59,69,79,100],labels=[5,4,3,2,1])\n",
    "writing_label = pd.cut(df['writing score'],bins=[0,49,59,69,79,100],labels=[5,4,3,2,1])\n",
    "\n",
    "# Labeling the scores\n",
    "df1['maths_label']=maths_label\n",
    "df1['writing_label']=writing_label\n",
    "df1['reading_label']=reading_label\n",
    "\n",
    "df1 = pd.concat([df1,df[['math score','writing score','reading score']]],axis=1)\n",
    "df1.rename(columns={'male':'Gender(male)','standard':'lunch(standard)','none':'TestPreparation(none)','race':'Race(group)'},inplace=True)"
   ]
  },
  {
   "cell_type": "code",
   "execution_count": null,
   "id": "35da1a10",
   "metadata": {},
   "outputs": [],
   "source": []
  },
  {
   "cell_type": "markdown",
   "id": "d9a1189e",
   "metadata": {},
   "source": [
    "## How effective is the test preparation course?"
   ]
  },
  {
   "cell_type": "code",
   "execution_count": 8,
   "id": "7bf8e3d4",
   "metadata": {},
   "outputs": [
    {
     "data": {
      "text/plain": [
       "none         66.2\n",
       "completed    33.8\n",
       "Name: test preparation course, dtype: float64"
      ]
     },
     "execution_count": 8,
     "metadata": {},
     "output_type": "execute_result"
    }
   ],
   "source": [
    "df['test preparation course'].value_counts(normalize=True)*100"
   ]
  },
  {
   "cell_type": "code",
   "execution_count": 9,
   "id": "a064569f",
   "metadata": {},
   "outputs": [
    {
     "data": {
      "text/plain": [
       "                      test preparation course\n",
       "math score     count  completed                  338.000000\n",
       "                      none                       662.000000\n",
       "               mean   completed                   69.644970\n",
       "                      none                        65.545317\n",
       "               std    completed                   14.804101\n",
       "                      none                        14.799320\n",
       "               min    completed                   19.000000\n",
       "                      none                         6.000000\n",
       "               25%    completed                   59.000000\n",
       "                      none                        55.000000\n",
       "               50%    completed                   70.000000\n",
       "                      none                        66.000000\n",
       "               75%    completed                   80.000000\n",
       "                      none                        76.000000\n",
       "               max    completed                  100.000000\n",
       "                      none                       100.000000\n",
       "reading score  count  completed                  338.000000\n",
       "                      none                       662.000000\n",
       "               mean   completed                   73.724852\n",
       "                      none                        67.799094\n",
       "               std    completed                   14.168068\n",
       "                      none                        13.874752\n",
       "               min    completed                   28.000000\n",
       "                      none                        23.000000\n",
       "               25%    completed                   65.000000\n",
       "                      none                        59.000000\n",
       "               50%    completed                   74.500000\n",
       "                      none                        68.000000\n",
       "               75%    completed                   84.000000\n",
       "                      none                        78.000000\n",
       "               max    completed                  100.000000\n",
       "                      none                       100.000000\n",
       "writing score  count  completed                  338.000000\n",
       "                      none                       662.000000\n",
       "               mean   completed                   74.210059\n",
       "                      none                        65.581571\n",
       "               std    completed                   14.491386\n",
       "                      none                        14.168058\n",
       "               min    completed                   26.000000\n",
       "                      none                        11.000000\n",
       "               25%    completed                   65.000000\n",
       "                      none                        56.000000\n",
       "               50%    completed                   75.000000\n",
       "                      none                        66.000000\n",
       "               75%    completed                   85.000000\n",
       "                      none                        76.000000\n",
       "               max    completed                  100.000000\n",
       "                      none                       100.000000\n",
       "dtype: float64"
      ]
     },
     "execution_count": 9,
     "metadata": {},
     "output_type": "execute_result"
    }
   ],
   "source": [
    "TestPreparationCourse = df.groupby(by=['test preparation course'])[['math score','reading score','writing score']]\n",
    "TestPreparationCourse.describe().unstack()"
   ]
  },
  {
   "cell_type": "code",
   "execution_count": 10,
   "id": "c451543f",
   "metadata": {},
   "outputs": [],
   "source": [
    "none = df[df['test preparation course']=='none'][['math score','reading score','writing score']]\n",
    "Completed = df[df['test preparation course']=='completed'][['math score','reading score','writing score']]"
   ]
  },
  {
   "cell_type": "code",
   "execution_count": 11,
   "id": "c6335636",
   "metadata": {},
   "outputs": [
    {
     "data": {
      "image/png": "[encoded data removed]",
      "text/plain": [
       "<Figure size 640x480 with 2 Axes>"
      ]
     },
     "metadata": {},
     "output_type": "display_data"
    }
   ],
   "source": [
    "TestPreparationCourseMean = df.groupby(by=['test preparation course'])[['math score','reading score','writing score']].mean()\n",
    "sns.heatmap(TestPreparationCourseMean,annot=True,cmap=\"YlGnBu\",)\n",
    "plt.title('Test Preparation Course By Scores (Mean)')\n",
    "plt.show()"
   ]
  },
  {
   "cell_type": "code",
   "execution_count": 12,
   "id": "f9b3f57f",
   "metadata": {},
   "outputs": [
    {
     "data": {
      "text/plain": [
       "<seaborn.axisgrid.FacetGrid at 0x2b4485f71c0>"
      ]
     },
     "execution_count": 12,
     "metadata": {},
     "output_type": "execute_result"
    },
    {
     "data": {
      "image/png": "[encoded data removed]",
      "text/plain": [
       "<Figure size 500x500 with 1 Axes>"
      ]
     },
     "metadata": {},
     "output_type": "display_data"
    }
   ],
   "source": [
    "sns.catplot(y='math score',x = 'test preparation course',data=df,kind = 'box')"
   ]
  },
  {
   "cell_type": "code",
   "execution_count": 13,
   "id": "f4994839",
   "metadata": {},
   "outputs": [
    {
     "data": {
      "text/plain": [
       "<seaborn.axisgrid.FacetGrid at 0x2b4485f7160>"
      ]
     },
     "execution_count": 13,
     "metadata": {},
     "output_type": "execute_result"
    },
    {
     "data": {
      "image/png": "[encoded data removed]",
      "text/plain": [
       "<Figure size 500x500 with 1 Axes>"
      ]
     },
     "metadata": {},
     "output_type": "display_data"
    }
   ],
   "source": [
    "sns.catplot(y='writing score',x = 'test preparation course',data=df,kind = 'box')"
   ]
  },
  {
   "cell_type": "code",
   "execution_count": 14,
   "id": "962fb5a0",
   "metadata": {},
   "outputs": [
    {
     "data": {
      "text/plain": [
       "<seaborn.axisgrid.FacetGrid at 0x2b44a8117f0>"
      ]
     },
     "execution_count": 14,
     "metadata": {},
     "output_type": "execute_result"
    },
    {
     "data": {
      "image/png": "[encoded data removed]",
      "text/plain": [
       "<Figure size 500x500 with 1 Axes>"
      ]
     },
     "metadata": {},
     "output_type": "display_data"
    }
   ],
   "source": [
    "sns.catplot(y='reading score',x = 'test preparation course',data=df,kind = 'box')"
   ]
  },
  {
   "cell_type": "code",
   "execution_count": 15,
   "id": "584f672e",
   "metadata": {},
   "outputs": [],
   "source": [
    "from scipy import stats\n",
    "Mathstest_statistic,Mathsp_value = stats.ttest_ind(Completed['math score'],none['math score'],equal_var=False)\n",
    "Writingtest_statistic,Writingp_value = stats.ttest_ind(Completed['writing score'],none['writing score'],equal_var=False)\n",
    "Readingtest_statistic,Readingp_value = stats.ttest_ind(Completed['reading score'],none['reading score'],equal_var=False)"
   ]
  },
  {
   "cell_type": "code",
   "execution_count": 16,
   "id": "39f0d7d7",
   "metadata": {},
   "outputs": [
    {
     "data": {
      "text/html": [
       "<div>\n",
       "<style scoped>\n",
       "    .dataframe tbody tr th:only-of-type {\n",
       "        vertical-align: middle;\n",
       "    }\n",
       "\n",
       "    .dataframe tbody tr th {\n",
       "        vertical-align: top;\n",
       "    }\n",
       "\n",
       "    .dataframe thead th {\n",
       "        text-align: right;\n",
       "    }\n",
       "</style>\n",
       "<table border=\"1\" class=\"dataframe\">\n",
       "  <thead>\n",
       "    <tr style=\"text-align: right;\">\n",
       "      <th></th>\n",
       "      <th>p_values</th>\n",
       "      <th>test_statistics</th>\n",
       "      <th>Conclusion</th>\n",
       "    </tr>\n",
       "  </thead>\n",
       "  <tbody>\n",
       "    <tr>\n",
       "      <th>Maths Scores</th>\n",
       "      <td>3.863429e-05</td>\n",
       "      <td>4.142856</td>\n",
       "      <td>Difference</td>\n",
       "    </tr>\n",
       "    <tr>\n",
       "      <th>Writing Scores</th>\n",
       "      <td>2.894948e-18</td>\n",
       "      <td>8.973775</td>\n",
       "      <td>Difference</td>\n",
       "    </tr>\n",
       "    <tr>\n",
       "      <th>Reading Scores</th>\n",
       "      <td>5.403894e-10</td>\n",
       "      <td>6.300125</td>\n",
       "      <td>Difference</td>\n",
       "    </tr>\n",
       "  </tbody>\n",
       "</table>\n",
       "</div>"
      ],
      "text/plain": [
       "                    p_values  test_statistics  Conclusion\n",
       "Maths Scores    3.863429e-05         4.142856  Difference\n",
       "Writing Scores  2.894948e-18         8.973775  Difference\n",
       "Reading Scores  5.403894e-10         6.300125  Difference"
      ]
     },
     "execution_count": 16,
     "metadata": {},
     "output_type": "execute_result"
    }
   ],
   "source": [
    "Statistics_Table = pd.DataFrame({'p_values':[Mathsp_value,Writingp_value,Readingp_value],'test_statistics':[Mathstest_statistic,Writingtest_statistic,Readingtest_statistic],'Conclusion':['Difference','Difference','Difference']},index=['Maths Scores','Writing Scores','Reading Scores'])\n",
    "Statistics_Table"
   ]
  },
  {
   "cell_type": "markdown",
   "id": "fc7c81df",
   "metadata": {},
   "source": [
    "#### Conclusion\n",
    "<p> 1. <b>Statistical Significance</b>: The p-value is far below the common significance level threshold (e.g., 0.05),we rejects the null hypothesis and hence there is statistically significant difference in scores between those who completed the test preparation course and those who did not. </p>\n",
    "    <p> 2. <b>Effectiveness of the Test Preparation Course</b> : This result strongly suggests that the test preparation course has a significant impact on the students' scores. Students who participated in the course tend to perform differently (most likely better) than those who did not.</p>"
   ]
  },
  {
   "cell_type": "code",
   "execution_count": null,
   "id": "5ea3e5d2",
   "metadata": {},
   "outputs": [],
   "source": []
  },
  {
   "cell_type": "code",
   "execution_count": null,
   "id": "db86decc",
   "metadata": {},
   "outputs": [],
   "source": []
  },
  {
   "cell_type": "markdown",
   "id": "af1764bb",
   "metadata": {},
   "source": [
    "## Which major factor contributed to the test Outcomes?"
   ]
  },
  {
   "cell_type": "code",
   "execution_count": 17,
   "id": "00e6cb4a",
   "metadata": {
    "scrolled": true
   },
   "outputs": [
    {
     "data": {
      "image/png": "[encoded data removed]",
      "text/plain": [
       "<Figure size 640x480 with 2 Axes>"
      ]
     },
     "metadata": {},
     "output_type": "display_data"
    }
   ],
   "source": [
    "sns.heatmap(df1.corr(),annot=True,cmap=\"YlGnBu\")\n",
    "plt.show()"
   ]
  },
  {
   "cell_type": "markdown",
   "id": "d14f2ca2",
   "metadata": {},
   "source": [
    "This table represents the correlation matrix for the given variables. Each value in the matrix indicates the strength and direction of the relationship between two variables, ranging from -1 to 1.\n",
    "\n",
    "### Interpretation of the Correlation Matrix:\n",
    "\n",
    "1. **Gender(male)**:\n",
    "   - Positively correlated with math score (0.204466): Males tend to have slightly higher math scores.\n",
    "   - Negatively correlated with writing score (-0.255793) and reading score (-0.201530): Males tend to have slightly lower writing and reading scores.\n",
    "   \n",
    "2. **Lunch(standard)**:\n",
    "   - Positively correlated with math score (0.390092), writing score (0.275526), and reading score (0.261299): Students who have standard lunch tend to perform better in all three subjects.\n",
    "   \n",
    "3. **Test Preparation(none)**:\n",
    "   - Negatively correlated with math score (-0.130040), writing score (-0.275105), and reading score (-0.196856): Students who do not take test preparation courses tend to score lower in all three subjects.\n",
    "   \n",
    "4. **Race(group)**:\n",
    "   - Positively correlated with math score (0.240455), writing score (0.207679), and reading score (0.183738): Certain racial groups tend to perform better in all three subjects.\n",
    "   \n",
    "5. **ParentEdLevel**:\n",
    "   - Positively correlated with math score (0.128489), writing score (0.170409), and reading score (0.139870): Higher parental education levels are associated with better performance in all three subjects.\n",
    "   \n",
    "6. **Math Score**:\n",
    "   - Strongly positively correlated with writing score (0.799968) and reading score (0.811056): Students who perform well in math also tend to perform well in writing and reading.\n",
    "   \n",
    "7. **Writing Score**:\n",
    "   - Very strongly positively correlated with reading score (0.950427): Students who perform well in writing also tend to perform well in reading.\n",
    "\n",
    "### Summary:\n",
    "- The highest correlations are seen between the different subject scores, indicating that students who perform well in one subject tend to perform well in the others.\n",
    "- Standard lunch and certain racial groups show moderate positive correlations with higher scores in all subjects.\n",
    "- Test preparation has a negative correlation, indicating that students not taking test preparation tend to score lower.\n",
    "- Gender shows a small positive correlation with math scores but a negative correlation with writing and reading scores.\n"
   ]
  },
  {
   "cell_type": "code",
   "execution_count": 18,
   "id": "e3fb4d2a",
   "metadata": {},
   "outputs": [
    {
     "data": {
      "text/plain": [
       "0.9301978658312732"
      ]
     },
     "execution_count": 18,
     "metadata": {},
     "output_type": "execute_result"
    }
   ],
   "source": [
    "from scipy.stats import bartlett\n",
    "F_statistic,pvalue = bartlett(*df1.corr().values)\n",
    "pvalue"
   ]
  },
  {
   "cell_type": "markdown",
   "id": "45a202ba",
   "metadata": {},
   "source": [
    "### Interpretation:\n",
    "- **Null Hypothesis (H0)**: The variables are uncorrelated (the correlation matrix is an identity matrix).\n",
    "- **Alternative Hypothesis (H1)**: The variables are correlated (the correlation matrix is not an identity matrix).\n",
    "\n",
    "### P-value:\n",
    "- **P-value = 0.9301978658312732**: This p-value is very high and well above the common significance level of 0.05.\n",
    "\n",
    "### Conclusion:\n",
    "- Since the p-value is much greater than 0.05, we fail to reject the null hypothesis.\n",
    "- This means that there is not enough evidence to suggest that the variables are correlated.\n",
    "- In other words, Bartlett's test indicates that the correlation matrix is close to an identity matrix, implying that the variables are likely uncorrelated.\n",
    "\n",
    "Therefore, based on Bartlett's test of sphericity, we conclude that the variables in your dataset are not significantly correlated. This suggests that the data does not have sufficient inter-correlations to be suitable for methods that require correlated variables, such as factor analysis or principal component analysis (PCA)."
   ]
  },
  {
   "cell_type": "code",
   "execution_count": null,
   "id": "0e7edda6",
   "metadata": {},
   "outputs": [],
   "source": []
  },
  {
   "cell_type": "code",
   "execution_count": 19,
   "id": "acf559ad",
   "metadata": {},
   "outputs": [],
   "source": [
    "import statsmodels.formula.api as stf\n",
    "df_Analysis = df1.copy()\n",
    "df_Analysis.rename(columns={'Gender(male)':'Gender', 'lunch(standard)':'lunch', 'TestPreparation(none)':'TestPreparation','Race(group)':'Race','writing score':'write_score','reading score':'read_score','math score':'maths_score'},inplace=True)\n",
    "def Linear_Regression(y):\n",
    "    model = stf.ols(formula='{}~Gender+lunch+TestPreparation+ParentEdLevel+Race'.format(y),data=df_Analysis).fit()\n",
    "    return model.summary()"
   ]
  },
  {
   "cell_type": "markdown",
   "id": "0624f718",
   "metadata": {},
   "source": [
    "#### Maths Score"
   ]
  },
  {
   "cell_type": "code",
   "execution_count": 20,
   "id": "863c0c75",
   "metadata": {},
   "outputs": [
    {
     "data": {
      "text/html": [
       "<table class=\"simpletable\">\n",
       "<caption>OLS Regression Results</caption>\n",
       "<tr>\n",
       "  <th>Dep. Variable:</th>       <td>maths_score</td>   <th>  R-squared:         </th> <td>   0.274</td>\n",
       "</tr>\n",
       "<tr>\n",
       "  <th>Model:</th>                   <td>OLS</td>       <th>  Adj. R-squared:    </th> <td>   0.270</td>\n",
       "</tr>\n",
       "<tr>\n",
       "  <th>Method:</th>             <td>Least Squares</td>  <th>  F-statistic:       </th> <td>   74.86</td>\n",
       "</tr>\n",
       "<tr>\n",
       "  <th>Date:</th>             <td>Wed, 10 Jul 2024</td> <th>  Prob (F-statistic):</th> <td>1.27e-66</td>\n",
       "</tr>\n",
       "<tr>\n",
       "  <th>Time:</th>                 <td>14:29:10</td>     <th>  Log-Likelihood:    </th> <td> -3961.4</td>\n",
       "</tr>\n",
       "<tr>\n",
       "  <th>No. Observations:</th>      <td>  1000</td>      <th>  AIC:               </th> <td>   7935.</td>\n",
       "</tr>\n",
       "<tr>\n",
       "  <th>Df Residuals:</th>          <td>   994</td>      <th>  BIC:               </th> <td>   7964.</td>\n",
       "</tr>\n",
       "<tr>\n",
       "  <th>Df Model:</th>              <td>     5</td>      <th>                     </th>     <td> </td>   \n",
       "</tr>\n",
       "<tr>\n",
       "  <th>Covariance Type:</th>      <td>nonrobust</td>    <th>                     </th>     <td> </td>   \n",
       "</tr>\n",
       "</table>\n",
       "<table class=\"simpletable\">\n",
       "<tr>\n",
       "         <td></td>            <th>coef</th>     <th>std err</th>      <th>t</th>      <th>P>|t|</th>  <th>[0.025</th>    <th>0.975]</th>  \n",
       "</tr>\n",
       "<tr>\n",
       "  <th>Intercept</th>       <td>   45.6232</td> <td>    1.681</td> <td>   27.139</td> <td> 0.000</td> <td>   42.324</td> <td>   48.922</td>\n",
       "</tr>\n",
       "<tr>\n",
       "  <th>Gender</th>          <td>    5.4142</td> <td>    0.808</td> <td>    6.703</td> <td> 0.000</td> <td>    3.829</td> <td>    6.999</td>\n",
       "</tr>\n",
       "<tr>\n",
       "  <th>lunch</th>           <td>   11.9005</td> <td>    0.844</td> <td>   14.101</td> <td> 0.000</td> <td>   10.244</td> <td>   13.557</td>\n",
       "</tr>\n",
       "<tr>\n",
       "  <th>TestPreparation</th> <td>   -3.8269</td> <td>    0.854</td> <td>   -4.480</td> <td> 0.000</td> <td>   -5.503</td> <td>   -2.151</td>\n",
       "</tr>\n",
       "<tr>\n",
       "  <th>ParentEdLevel</th>   <td>    1.3716</td> <td>    0.269</td> <td>    5.103</td> <td> 0.000</td> <td>    0.844</td> <td>    1.899</td>\n",
       "</tr>\n",
       "<tr>\n",
       "  <th>Race</th>            <td>    2.9399</td> <td>    0.356</td> <td>    8.263</td> <td> 0.000</td> <td>    2.242</td> <td>    3.638</td>\n",
       "</tr>\n",
       "</table>\n",
       "<table class=\"simpletable\">\n",
       "<tr>\n",
       "  <th>Omnibus:</th>       <td>15.117</td> <th>  Durbin-Watson:     </th> <td>   2.021</td>\n",
       "</tr>\n",
       "<tr>\n",
       "  <th>Prob(Omnibus):</th> <td> 0.001</td> <th>  Jarque-Bera (JB):  </th> <td>  15.469</td>\n",
       "</tr>\n",
       "<tr>\n",
       "  <th>Skew:</th>          <td>-0.304</td> <th>  Prob(JB):          </th> <td>0.000437</td>\n",
       "</tr>\n",
       "<tr>\n",
       "  <th>Kurtosis:</th>      <td> 3.046</td> <th>  Cond. No.          </th> <td>    21.0</td>\n",
       "</tr>\n",
       "</table><br/><br/>Notes:<br/>[1] Standard Errors assume that the covariance matrix of the errors is correctly specified."
      ],
      "text/plain": [
       "<class 'statsmodels.iolib.summary.Summary'>\n",
       "\"\"\"\n",
       "                            OLS Regression Results                            \n",
       "==============================================================================\n",
       "Dep. Variable:            maths_score   R-squared:                       0.274\n",
       "Model:                            OLS   Adj. R-squared:                  0.270\n",
       "Method:                 Least Squares   F-statistic:                     74.86\n",
       "Date:                Wed, 10 Jul 2024   Prob (F-statistic):           1.27e-66\n",
       "Time:                        14:29:10   Log-Likelihood:                -3961.4\n",
       "No. Observations:                1000   AIC:                             7935.\n",
       "Df Residuals:                     994   BIC:                             7964.\n",
       "Df Model:                           5                                         \n",
       "Covariance Type:            nonrobust                                         \n",
       "===================================================================================\n",
       "                      coef    std err          t      P>|t|      [0.025      0.975]\n",
       "-----------------------------------------------------------------------------------\n",
       "Intercept          45.6232      1.681     27.139      0.000      42.324      48.922\n",
       "Gender              5.4142      0.808      6.703      0.000       3.829       6.999\n",
       "lunch              11.9005      0.844     14.101      0.000      10.244      13.557\n",
       "TestPreparation    -3.8269      0.854     -4.480      0.000      -5.503      -2.151\n",
       "ParentEdLevel       1.3716      0.269      5.103      0.000       0.844       1.899\n",
       "Race                2.9399      0.356      8.263      0.000       2.242       3.638\n",
       "==============================================================================\n",
       "Omnibus:                       15.117   Durbin-Watson:                   2.021\n",
       "Prob(Omnibus):                  0.001   Jarque-Bera (JB):               15.469\n",
       "Skew:                          -0.304   Prob(JB):                     0.000437\n",
       "Kurtosis:                       3.046   Cond. No.                         21.0\n",
       "==============================================================================\n",
       "\n",
       "Notes:\n",
       "[1] Standard Errors assume that the covariance matrix of the errors is correctly specified.\n",
       "\"\"\""
      ]
     },
     "execution_count": 20,
     "metadata": {},
     "output_type": "execute_result"
    }
   ],
   "source": [
    "Linear_Regression('maths_score')"
   ]
  },
  {
   "cell_type": "markdown",
   "id": "23a8aeda",
   "metadata": {},
   "source": [
    "#### Model Summary for Maths Score\n",
    "\n",
    "R-squared: 0.274 - This indicates that approximately 27.4% of the variance in `maths_score` can be explained by the independent variables in the model.\n",
    "Prob (F-statistic): 1.27e-66 - This is the p-value for the F-statistic. The extremely low p-value (< 0.05) indicates that the model is statistically significant.\n",
    " \n",
    "#### Coefficients and Significance\n",
    "Intercept: 45.6232 (p < 0.001)- The intercept represents the expected `maths_score` when all independent variables are zero.\n",
    "  \n",
    "Gender: 5.4142 (p < 0.001)- Gender(Male) is associated with an increase of 5.4142 points in `maths_score`.\n",
    "  \n",
    "Lunch: 11.9005 (p < 0.001)- Having lunch(Standard) is associated with an increase of 11.9005 points in `maths_score`.\n",
    "  \n",
    "Test Preparation: -3.8269 (p < 0.001) - Not completing Test Preparation is associated with a decrease of 3.8269 points in `maths_score`.\n",
    "  \n",
    "Parent Education Level: 1.3716 (p < 0.001)- Each level increase in parent education level is associated with an increase of 1.3716 points in `maths_score`.\n",
    "  \n",
    "Race: 2.9399 (p < 0.001)- The coefficient for race indicates that certain racial categories are associated with an increase of 2.9399 points in `maths_score`.\n",
    "  \n",
    "**This indicates that intercept and lunch has the most positive impact on the maths scores**"
   ]
  },
  {
   "cell_type": "markdown",
   "id": "c97ffb58",
   "metadata": {},
   "source": [
    "#### Write Score"
   ]
  },
  {
   "cell_type": "code",
   "execution_count": 21,
   "id": "24004e30",
   "metadata": {},
   "outputs": [
    {
     "data": {
      "text/html": [
       "<table class=\"simpletable\">\n",
       "<caption>OLS Regression Results</caption>\n",
       "<tr>\n",
       "  <th>Dep. Variable:</th>       <td>write_score</td>   <th>  R-squared:         </th> <td>   0.300</td>\n",
       "</tr>\n",
       "<tr>\n",
       "  <th>Model:</th>                   <td>OLS</td>       <th>  Adj. R-squared:    </th> <td>   0.296</td>\n",
       "</tr>\n",
       "<tr>\n",
       "  <th>Method:</th>             <td>Least Squares</td>  <th>  F-statistic:       </th> <td>   85.07</td>\n",
       "</tr>\n",
       "<tr>\n",
       "  <th>Date:</th>             <td>Wed, 10 Jul 2024</td> <th>  Prob (F-statistic):</th> <td>1.78e-74</td>\n",
       "</tr>\n",
       "<tr>\n",
       "  <th>Time:</th>                 <td>14:29:11</td>     <th>  Log-Likelihood:    </th> <td> -3937.9</td>\n",
       "</tr>\n",
       "<tr>\n",
       "  <th>No. Observations:</th>      <td>  1000</td>      <th>  AIC:               </th> <td>   7888.</td>\n",
       "</tr>\n",
       "<tr>\n",
       "  <th>Df Residuals:</th>          <td>   994</td>      <th>  BIC:               </th> <td>   7917.</td>\n",
       "</tr>\n",
       "<tr>\n",
       "  <th>Df Model:</th>              <td>     5</td>      <th>                     </th>     <td> </td>   \n",
       "</tr>\n",
       "<tr>\n",
       "  <th>Covariance Type:</th>      <td>nonrobust</td>    <th>                     </th>     <td> </td>   \n",
       "</tr>\n",
       "</table>\n",
       "<table class=\"simpletable\">\n",
       "<tr>\n",
       "         <td></td>            <th>coef</th>     <th>std err</th>      <th>t</th>      <th>P>|t|</th>  <th>[0.025</th>    <th>0.975]</th>  \n",
       "</tr>\n",
       "<tr>\n",
       "  <th>Intercept</th>       <td>   59.4513</td> <td>    1.642</td> <td>   36.204</td> <td> 0.000</td> <td>   56.229</td> <td>   62.674</td>\n",
       "</tr>\n",
       "<tr>\n",
       "  <th>Gender</th>          <td>   -8.2742</td> <td>    0.789</td> <td>  -10.487</td> <td> 0.000</td> <td>   -9.823</td> <td>   -6.726</td>\n",
       "</tr>\n",
       "<tr>\n",
       "  <th>lunch</th>           <td>    9.1266</td> <td>    0.824</td> <td>   11.071</td> <td> 0.000</td> <td>    7.509</td> <td>   10.744</td>\n",
       "</tr>\n",
       "<tr>\n",
       "  <th>TestPreparation</th> <td>   -8.8194</td> <td>    0.834</td> <td>  -10.570</td> <td> 0.000</td> <td>  -10.457</td> <td>   -7.182</td>\n",
       "</tr>\n",
       "<tr>\n",
       "  <th>ParentEdLevel</th>   <td>    1.8699</td> <td>    0.263</td> <td>    7.122</td> <td> 0.000</td> <td>    1.355</td> <td>    2.385</td>\n",
       "</tr>\n",
       "<tr>\n",
       "  <th>Race</th>            <td>    2.3634</td> <td>    0.348</td> <td>    6.801</td> <td> 0.000</td> <td>    1.681</td> <td>    3.045</td>\n",
       "</tr>\n",
       "</table>\n",
       "<table class=\"simpletable\">\n",
       "<tr>\n",
       "  <th>Omnibus:</th>       <td>15.223</td> <th>  Durbin-Watson:     </th> <td>   2.029</td>\n",
       "</tr>\n",
       "<tr>\n",
       "  <th>Prob(Omnibus):</th> <td> 0.000</td> <th>  Jarque-Bera (JB):  </th> <td>  15.616</td>\n",
       "</tr>\n",
       "<tr>\n",
       "  <th>Skew:</th>          <td>-0.306</td> <th>  Prob(JB):          </th> <td>0.000407</td>\n",
       "</tr>\n",
       "<tr>\n",
       "  <th>Kurtosis:</th>      <td> 3.027</td> <th>  Cond. No.          </th> <td>    21.0</td>\n",
       "</tr>\n",
       "</table><br/><br/>Notes:<br/>[1] Standard Errors assume that the covariance matrix of the errors is correctly specified."
      ],
      "text/plain": [
       "<class 'statsmodels.iolib.summary.Summary'>\n",
       "\"\"\"\n",
       "                            OLS Regression Results                            \n",
       "==============================================================================\n",
       "Dep. Variable:            write_score   R-squared:                       0.300\n",
       "Model:                            OLS   Adj. R-squared:                  0.296\n",
       "Method:                 Least Squares   F-statistic:                     85.07\n",
       "Date:                Wed, 10 Jul 2024   Prob (F-statistic):           1.78e-74\n",
       "Time:                        14:29:11   Log-Likelihood:                -3937.9\n",
       "No. Observations:                1000   AIC:                             7888.\n",
       "Df Residuals:                     994   BIC:                             7917.\n",
       "Df Model:                           5                                         \n",
       "Covariance Type:            nonrobust                                         \n",
       "===================================================================================\n",
       "                      coef    std err          t      P>|t|      [0.025      0.975]\n",
       "-----------------------------------------------------------------------------------\n",
       "Intercept          59.4513      1.642     36.204      0.000      56.229      62.674\n",
       "Gender             -8.2742      0.789    -10.487      0.000      -9.823      -6.726\n",
       "lunch               9.1266      0.824     11.071      0.000       7.509      10.744\n",
       "TestPreparation    -8.8194      0.834    -10.570      0.000     -10.457      -7.182\n",
       "ParentEdLevel       1.8699      0.263      7.122      0.000       1.355       2.385\n",
       "Race                2.3634      0.348      6.801      0.000       1.681       3.045\n",
       "==============================================================================\n",
       "Omnibus:                       15.223   Durbin-Watson:                   2.029\n",
       "Prob(Omnibus):                  0.000   Jarque-Bera (JB):               15.616\n",
       "Skew:                          -0.306   Prob(JB):                     0.000407\n",
       "Kurtosis:                       3.027   Cond. No.                         21.0\n",
       "==============================================================================\n",
       "\n",
       "Notes:\n",
       "[1] Standard Errors assume that the covariance matrix of the errors is correctly specified.\n",
       "\"\"\""
      ]
     },
     "execution_count": 21,
     "metadata": {},
     "output_type": "execute_result"
    }
   ],
   "source": [
    "Linear_Regression('write_score')"
   ]
  },
  {
   "cell_type": "markdown",
   "id": "87255ed9",
   "metadata": {},
   "source": [
    "#### Model Summary\n",
    "R-squared: 0.3000- This indicates that approximately 30.00% of the variance in `write_score` can be explained by the independent variables in the model.\n",
    "F-statistic: 85.07- (p-value: 1.78e-74) This value tests the overall significance of the model. A high F-statistic indicates that the model is statistically significant. The extremely low p-value (< 0.05) also indicates that the model is statistically significant.\n",
    "\n",
    "#### Coefficients and Significance\n",
    "Intercept: 59.4513 (p < 0.001)- The intercept represents the expected `write_score` when all independent variables are zero.\n",
    "\n",
    "Gender: -8.2742 (p < 0.001)- Gender(Male) is associated with an decrease of 8.2742 points in `write_score`.\n",
    "\n",
    "Lunch: 9.1266 (p < 0.001)- lunch(Standard) is associated with an increase of 9.1266 points in `write_score`.\n",
    "\n",
    "Test Preparation: -8.8194 (p < 0.001)- Not completing test preparation courses is associated with a decrease of 8.8194 points in `write_score`.\n",
    "\n",
    "Parent Education Level: 1.8699 (p < 0.001)- Each level increase in parent education level is associated with an increase of  1.8699 points in `write_score`.\n",
    "\n",
    "Race: 2.3634 (p < 0.001)- The coefficient for race indicates that certain racial categories are associated with an increase of 2.3634 points in `write_score`.\n",
    "\n",
    "**This indicates that intercept and lunch(Standard) has positive impact whiles Gender(Male) and Test Preparation(None)**"
   ]
  },
  {
   "cell_type": "markdown",
   "id": "deb8d2de",
   "metadata": {},
   "source": [
    "#### Read Score"
   ]
  },
  {
   "cell_type": "code",
   "execution_count": 22,
   "id": "15ededd5",
   "metadata": {},
   "outputs": [
    {
     "data": {
      "text/html": [
       "<table class=\"simpletable\">\n",
       "<caption>OLS Regression Results</caption>\n",
       "<tr>\n",
       "  <th>Dep. Variable:</th>       <td>read_score</td>    <th>  R-squared:         </th> <td>   0.208</td>\n",
       "</tr>\n",
       "<tr>\n",
       "  <th>Model:</th>                   <td>OLS</td>       <th>  Adj. R-squared:    </th> <td>   0.204</td>\n",
       "</tr>\n",
       "<tr>\n",
       "  <th>Method:</th>             <td>Least Squares</td>  <th>  F-statistic:       </th> <td>   52.19</td>\n",
       "</tr>\n",
       "<tr>\n",
       "  <th>Date:</th>             <td>Wed, 10 Jul 2024</td> <th>  Prob (F-statistic):</th> <td>3.87e-48</td>\n",
       "</tr>\n",
       "<tr>\n",
       "  <th>Time:</th>                 <td>14:29:11</td>     <th>  Log-Likelihood:    </th> <td> -3958.4</td>\n",
       "</tr>\n",
       "<tr>\n",
       "  <th>No. Observations:</th>      <td>  1000</td>      <th>  AIC:               </th> <td>   7929.</td>\n",
       "</tr>\n",
       "<tr>\n",
       "  <th>Df Residuals:</th>          <td>   994</td>      <th>  BIC:               </th> <td>   7958.</td>\n",
       "</tr>\n",
       "<tr>\n",
       "  <th>Df Model:</th>              <td>     5</td>      <th>                     </th>     <td> </td>   \n",
       "</tr>\n",
       "<tr>\n",
       "  <th>Covariance Type:</th>      <td>nonrobust</td>    <th>                     </th>     <td> </td>   \n",
       "</tr>\n",
       "</table>\n",
       "<table class=\"simpletable\">\n",
       "<tr>\n",
       "         <td></td>            <th>coef</th>     <th>std err</th>      <th>t</th>      <th>P>|t|</th>  <th>[0.025</th>    <th>0.975]</th>  \n",
       "</tr>\n",
       "<tr>\n",
       "  <th>Intercept</th>       <td>   60.7697</td> <td>    1.676</td> <td>   36.257</td> <td> 0.000</td> <td>   57.481</td> <td>   64.059</td>\n",
       "</tr>\n",
       "<tr>\n",
       "  <th>Gender</th>          <td>   -6.3062</td> <td>    0.805</td> <td>   -7.831</td> <td> 0.000</td> <td>   -7.886</td> <td>   -4.726</td>\n",
       "</tr>\n",
       "<tr>\n",
       "  <th>lunch</th>           <td>    8.2124</td> <td>    0.841</td> <td>    9.760</td> <td> 0.000</td> <td>    6.561</td> <td>    9.864</td>\n",
       "</tr>\n",
       "<tr>\n",
       "  <th>TestPreparation</th> <td>   -6.0533</td> <td>    0.852</td> <td>   -7.108</td> <td> 0.000</td> <td>   -7.725</td> <td>   -4.382</td>\n",
       "</tr>\n",
       "<tr>\n",
       "  <th>ParentEdLevel</th>   <td>    1.4697</td> <td>    0.268</td> <td>    5.485</td> <td> 0.000</td> <td>    0.944</td> <td>    1.996</td>\n",
       "</tr>\n",
       "<tr>\n",
       "  <th>Race</th>            <td>    2.0385</td> <td>    0.355</td> <td>    5.747</td> <td> 0.000</td> <td>    1.342</td> <td>    2.735</td>\n",
       "</tr>\n",
       "</table>\n",
       "<table class=\"simpletable\">\n",
       "<tr>\n",
       "  <th>Omnibus:</th>       <td>15.796</td> <th>  Durbin-Watson:     </th> <td>   2.055</td>\n",
       "</tr>\n",
       "<tr>\n",
       "  <th>Prob(Omnibus):</th> <td> 0.000</td> <th>  Jarque-Bera (JB):  </th> <td>  16.322</td>\n",
       "</tr>\n",
       "<tr>\n",
       "  <th>Skew:</th>          <td>-0.306</td> <th>  Prob(JB):          </th> <td>0.000286</td>\n",
       "</tr>\n",
       "<tr>\n",
       "  <th>Kurtosis:</th>      <td> 2.872</td> <th>  Cond. No.          </th> <td>    21.0</td>\n",
       "</tr>\n",
       "</table><br/><br/>Notes:<br/>[1] Standard Errors assume that the covariance matrix of the errors is correctly specified."
      ],
      "text/plain": [
       "<class 'statsmodels.iolib.summary.Summary'>\n",
       "\"\"\"\n",
       "                            OLS Regression Results                            \n",
       "==============================================================================\n",
       "Dep. Variable:             read_score   R-squared:                       0.208\n",
       "Model:                            OLS   Adj. R-squared:                  0.204\n",
       "Method:                 Least Squares   F-statistic:                     52.19\n",
       "Date:                Wed, 10 Jul 2024   Prob (F-statistic):           3.87e-48\n",
       "Time:                        14:29:11   Log-Likelihood:                -3958.4\n",
       "No. Observations:                1000   AIC:                             7929.\n",
       "Df Residuals:                     994   BIC:                             7958.\n",
       "Df Model:                           5                                         \n",
       "Covariance Type:            nonrobust                                         \n",
       "===================================================================================\n",
       "                      coef    std err          t      P>|t|      [0.025      0.975]\n",
       "-----------------------------------------------------------------------------------\n",
       "Intercept          60.7697      1.676     36.257      0.000      57.481      64.059\n",
       "Gender             -6.3062      0.805     -7.831      0.000      -7.886      -4.726\n",
       "lunch               8.2124      0.841      9.760      0.000       6.561       9.864\n",
       "TestPreparation    -6.0533      0.852     -7.108      0.000      -7.725      -4.382\n",
       "ParentEdLevel       1.4697      0.268      5.485      0.000       0.944       1.996\n",
       "Race                2.0385      0.355      5.747      0.000       1.342       2.735\n",
       "==============================================================================\n",
       "Omnibus:                       15.796   Durbin-Watson:                   2.055\n",
       "Prob(Omnibus):                  0.000   Jarque-Bera (JB):               16.322\n",
       "Skew:                          -0.306   Prob(JB):                     0.000286\n",
       "Kurtosis:                       2.872   Cond. No.                         21.0\n",
       "==============================================================================\n",
       "\n",
       "Notes:\n",
       "[1] Standard Errors assume that the covariance matrix of the errors is correctly specified.\n",
       "\"\"\""
      ]
     },
     "execution_count": 22,
     "metadata": {},
     "output_type": "execute_result"
    }
   ],
   "source": [
    "Linear_Regression('read_score')"
   ]
  },
  {
   "cell_type": "markdown",
   "id": "e26df0b8",
   "metadata": {},
   "source": [
    "#### Model Summary\n",
    "R-squared: 0.208- This indicates that approximately 27.4% of the variance in `read_score` can be explained by the independent variables in the model.\n",
    "F-statistic: 52.19 (p-value: 3.87e-48)- This value tests the overall significance of the model. A high F-statistic indicates that the model is statistically significant.\n",
    "\n",
    "#### Coefficients and Significance\n",
    "Intercept: 60.7697 (p < 0.001)- The intercept represents the expected `read_score` when all independent variables are zero.\n",
    "\n",
    "\n",
    "Gender: -6.3062 (p < 0.001)- Gender(Male) is associated with an increase of 5.4142 points in `read_score`.\n",
    "\n",
    "\n",
    "Lunch: 8.2124 (p < 0.001)- Having lunch(Standard) is associated with an increase of 11.9005 points in `read_score`.\n",
    "\n",
    "\n",
    "Test Preparation: -6.0533 (p < 0.001)- Not completing test preparation courses is associated with a decrease of 6.0533 points in `read_score`.\n",
    "\n",
    "\n",
    "Parent Education Level: 1.4697 (p < 0.001)- Each level increase in parent education level is associated with an increase of 1.4697 points in `read_score`.\n",
    "\n",
    "\n",
    "Race: 2.0385 (p < 0.001)- The coefficient for race indicates that certain racial categories are associated with an increase of 2.0385 points in `read_score`.\n",
    "\n",
    "\n",
    "**This indicates that intercept and lunch has positive impact while Test preparation(None) and gender(male) have negative impact**"
   ]
  },
  {
   "cell_type": "code",
   "execution_count": null,
   "id": "ed8451b2",
   "metadata": {},
   "outputs": [],
   "source": []
  },
  {
   "cell_type": "markdown",
   "id": "ae6bcae6",
   "metadata": {},
   "source": [
    "## What would be the best way to improve student scores on each test?"
   ]
  },
  {
   "cell_type": "markdown",
   "id": "4e9f0eda",
   "metadata": {},
   "source": [
    "#### Improving maths scores"
   ]
  },
  {
   "cell_type": "code",
   "execution_count": 23,
   "id": "efd6f53d",
   "metadata": {},
   "outputs": [
    {
     "name": "stdout",
     "output_type": "stream",
     "text": [
      "female    73.076923\n",
      "male      26.923077\n",
      "Name: gender, dtype: float64\n",
      "\n",
      "\n",
      "C    34.615385\n",
      "B    26.923077\n",
      "D    20.512821\n",
      "A    15.384615\n",
      "E     2.564103\n",
      "Name: race/ethnicity, dtype: float64\n",
      "\n",
      "\n",
      "some high school      29.487179\n",
      "some college          25.641026\n",
      "high school           21.794872\n",
      "associate's degree    11.538462\n",
      "bachelor's degree      7.692308\n",
      "master's degree        3.846154\n",
      "Name: parental level of education, dtype: float64\n",
      "\n",
      "\n",
      "free/reduced    70.512821\n",
      "standard        29.487179\n",
      "Name: lunch, dtype: float64\n",
      "\n",
      "\n",
      "none         80.769231\n",
      "completed    19.230769\n",
      "Name: test preparation course, dtype: float64\n",
      "\n",
      "\n"
     ]
    }
   ],
   "source": [
    "feature = ['gender','race/ethnicity','parental level of education','lunch','test preparation course']\n",
    "below_46 = df[df1['math score']<45.6232][feature]\n",
    "for i in feature:\n",
    "    print(below_46[i].value_counts(normalize=True)*100)\n",
    "    print('')\n",
    "    print('')"
   ]
  },
  {
   "cell_type": "markdown",
   "id": "a014c121",
   "metadata": {},
   "source": [
    "The intercept indicates that no student should score below 45.6232. Among students scoring below this threshold, approximately 73% are females and 27% are males, suggesting that females are more likely to have lower math scores. Additionally, 81% of those scoring below 45.6232 did not participate in test preparation, and 71% of the student received free or reduced lunch."
   ]
  },
  {
   "cell_type": "markdown",
   "id": "03ba7684",
   "metadata": {},
   "source": [
    "Maths Scores = 45.6232 + 5.4142Gender(Male) + 11.9005Lunch(Standard) - 3.8269Test_Preparation(None) + 1.3716EducationLevel + 2.9399Race\n",
    "\n",
    "To improve math scores based on the regression model:\n",
    "\n",
    "1. **Encourage Equal Performance Across Genders**:\n",
    "   - The coefficient for gender (male) is 5.4142, indicating that being male is associated with a higher math score. Implement targeted interventions to support female students, such as mentorship programs, to bridge this gap.\n",
    "\n",
    "2. **Improve Lunch Quality**:\n",
    "   - The coefficient for having a standard lunch is 11.9005. Ensure all students have access to nutritious meals, possibly expanding the standard lunch program or improving the quality of free/reduced lunch options.\n",
    "\n",
    "3. **Optimize Test Preparation Programs**:\n",
    "   - Surprisingly, the coefficient for test preparation (none) is -3.8269, indicating a negative impact. This suggests that the current test preparation courses may not be effective or beneficial. Evaluate and redesign these programs to make them more effective. Consider integrating more interactive and engaging methods, and providing personalized study plans.\n",
    "\n",
    "4. **Enhance Parental Involvement and Education**:\n",
    "   - The coefficient for parent education level is 1.3716. Encourage parental involvement in their children's education and offer resources or workshops to help parents support their children's learning. Higher parental education levels are associated with better math scores, so community education initiatives could have a positive impact.\n",
    "\n",
    "5. **Address Racial Disparities**:\n",
    "   - The coefficient for race is 2.9399, indicating some racial groups perform better. Identify and address any racial disparities in educational outcomes. This could involve culturally responsive teaching practices, providing additional support for underrepresented groups, and creating an inclusive environment that fosters the success of all students."
   ]
  },
  {
   "cell_type": "code",
   "execution_count": null,
   "id": "520a8943",
   "metadata": {},
   "outputs": [],
   "source": []
  },
  {
   "cell_type": "code",
   "execution_count": null,
   "id": "04024ef9",
   "metadata": {},
   "outputs": [],
   "source": []
  },
  {
   "cell_type": "markdown",
   "id": "0a5310e3",
   "metadata": {},
   "source": [
    "#### Improving writing scores"
   ]
  },
  {
   "cell_type": "markdown",
   "id": "d7743c94",
   "metadata": {},
   "source": []
  },
  {
   "cell_type": "code",
   "execution_count": 24,
   "id": "3205a661",
   "metadata": {},
   "outputs": [
    {
     "name": "stdout",
     "output_type": "stream",
     "text": [
      "male      67.30038\n",
      "female    32.69962\n",
      "Name: gender, dtype: float64\n",
      "\n",
      "\n",
      "C    36.882129\n",
      "D    24.334601\n",
      "B    22.433460\n",
      "A     9.885932\n",
      "E     6.463878\n",
      "Name: race/ethnicity, dtype: float64\n",
      "\n",
      "\n",
      "some high school      28.517110\n",
      "some college          23.574144\n",
      "high school           21.292776\n",
      "associate's degree    12.547529\n",
      "bachelor's degree      9.505703\n",
      "master's degree        4.562738\n",
      "Name: parental level of education, dtype: float64\n",
      "\n",
      "\n",
      "free/reduced    55.893536\n",
      "standard        44.106464\n",
      "Name: lunch, dtype: float64\n",
      "\n",
      "\n",
      "none         78.707224\n",
      "completed    21.292776\n",
      "Name: test preparation course, dtype: float64\n",
      "\n",
      "\n"
     ]
    }
   ],
   "source": [
    "below_46 = df[df1['writing score']<59.4513][feature]\n",
    "for i in feature:\n",
    "    print(below_46[i].value_counts(normalize=True)*100)\n",
    "    print('')\n",
    "    print('')"
   ]
  },
  {
   "cell_type": "markdown",
   "id": "197082a9",
   "metadata": {},
   "source": [
    "The intercept indicates that no student should score below 59.4513. Among students scoring below this threshold, approximately 67% are males and 33% are females, suggesting that males are more likely to have lower writing scores. Additionally, 79% of those scoring below 59.4513 did not participate in test preparation."
   ]
  },
  {
   "cell_type": "markdown",
   "id": "8c0a5ef3",
   "metadata": {},
   "source": [
    "writing Scores = 59.4513 - 8.2742Gender(Male) + 9.1266Lunch(Standard) -8.8194Test_Preparation(None) + 1.8699EducationLevel + 2.3634Race\n",
    "\n",
    "To improve writing scores based on the regression model:\n",
    "\n",
    "1. **Address Gender Disparity**:\n",
    "   - The coefficient for gender (male) is -8.2742, indicating that being male is associated with a lower writing score. Implement targeted interventions to support male students in improving their writing skills. This could include creating boys-only writing groups, providing male role models who emphasize the importance of writing, and using topics and genres that might interest male students more.\n",
    "\n",
    "2. **Improve Lunch Quality**:\n",
    "   - The coefficient for having a standard lunch is 9.1266. Ensure all students have access to nutritious meals. This might involve expanding the standard lunch program, improving the quality of free/reduced lunch options, and educating students and parents about the importance of nutrition for cognitive function.\n",
    "\n",
    "3. **Redesign Test Preparation Programs**:\n",
    "   - The coefficient for test preparation (none) is -8.8194, suggesting a negative impact. Evaluate and redesign test preparation courses to ensure they are beneficial. Incorporate more effective writing strategies, interactive and engaging methods, and provide personalized study plans to better prepare students for writing tasks.\n",
    "\n",
    "4. **Enhance Parental Involvement and Education**:\n",
    "   - The coefficient for parent education level is 1.8699. Encourage parental involvement in their children's education and offer resources or workshops to help parents support their children's writing development. Higher parental education levels are associated with better writing scores, so community education initiatives could have a positive impact.\n",
    "\n",
    "5. **Address Racial Disparities**:\n",
    "   - The coefficient for race is 2.3634, indicating some racial groups perform better. Identify and address any racial disparities in educational outcomes. This could involve culturally responsive teaching practices, providing additional support for underrepresented groups, and creating an inclusive environment that fosters the success of all students."
   ]
  },
  {
   "cell_type": "markdown",
   "id": "c5f43bc6",
   "metadata": {},
   "source": [
    "#### Improving reading scores"
   ]
  },
  {
   "cell_type": "code",
   "execution_count": 25,
   "id": "f30bf881",
   "metadata": {},
   "outputs": [
    {
     "name": "stdout",
     "output_type": "stream",
     "text": [
      "male      64.049587\n",
      "female    35.950413\n",
      "Name: gender, dtype: float64\n",
      "\n",
      "\n",
      "C    34.710744\n",
      "D    26.033058\n",
      "B    23.966942\n",
      "A    11.157025\n",
      "E     4.132231\n",
      "Name: race/ethnicity, dtype: float64\n",
      "\n",
      "\n",
      "some high school      27.685950\n",
      "high school           21.487603\n",
      "some college          21.487603\n",
      "associate's degree    15.702479\n",
      "bachelor's degree      7.851240\n",
      "master's degree        5.785124\n",
      "Name: parental level of education, dtype: float64\n",
      "\n",
      "\n",
      "free/reduced    52.479339\n",
      "standard        47.520661\n",
      "Name: lunch, dtype: float64\n",
      "\n",
      "\n",
      "none         76.033058\n",
      "completed    23.966942\n",
      "Name: test preparation course, dtype: float64\n",
      "\n",
      "\n"
     ]
    }
   ],
   "source": [
    "below_46 = df[df1['reading score']<60.7697][feature]\n",
    "for i in feature:\n",
    "    print(below_46[i].value_counts(normalize=True)*100)\n",
    "    print('')\n",
    "    print('')"
   ]
  },
  {
   "cell_type": "markdown",
   "id": "dde7fd86",
   "metadata": {},
   "source": [
    "The intercept indicates that no student should score below 60.7697. Among students scoring below this threshold, approximately 64% are males and 37% are females, suggesting that males are more likely to have lower reading scores. Additionally, 76% of those scoring below 60.7697 did not participate in test preparation."
   ]
  },
  {
   "cell_type": "markdown",
   "id": "61769cbc",
   "metadata": {},
   "source": [
    "reading Scores = 60.7697 -6.3062Gender(Male) +  8.2124Lunch(Standard) -6.0533Test_Preparation(None) + 1.4697EducationLevel + 2.0385Race\n",
    "\n",
    "To improve reading scores based on the regression model:\n",
    "\n",
    "1. **Address Gender Disparity**:\n",
    "   - The coefficient for gender (male) is -6.3062, indicating that being male is associated with a lower reading score. Implement targeted interventions to support male students in improving their reading skills. This could include:\n",
    "     - Selecting reading materials that interest boys.\n",
    "     - Encouraging male role models to read and discuss books.\n",
    "\n",
    "2. **Improve Lunch Quality**:\n",
    "   - The coefficient for having a standard lunch is 8.2124. Ensure all students have access to nutritious meals. This might involve:\n",
    "     - Expanding the standard lunch program.\n",
    "     - Improving the quality of free/reduced lunch options.\n",
    "\n",
    "3. **Redesign Test Preparation Programs**:\n",
    "   - The coefficient for test preparation (none) is -6.0533, suggesting a negative impact. Evaluate and redesign test preparation courses to ensure they are beneficial. Consider:\n",
    "     - Incorporating effective reading strategies and comprehension exercises.\n",
    "     - Providing personalized study plans that address individual student needs and weaknesses.\n",
    "\n",
    "4. **Enhance Parental Involvement and Education**:\n",
    "   - The coefficient for parent education level is 1.4697. Encourage parental involvement in their children's education by:\n",
    "     - Promoting family reading time at home.\n",
    "     - Providing parents with tips and strategies to enhance their children's reading skills.\n",
    "\n",
    "5. **Address Racial Disparities**:\n",
    "   - The coefficient for race is 2.0385, indicating some racial groups perform better. Identify and address any racial disparities in educational outcomes by:\n",
    "     - Implementing culturally responsive teaching practices.\n",
    "     - Providing additional support for underrepresented groups.\n",
    "     - Creating an inclusive environment that fosters the success of all students.\n"
   ]
  },
  {
   "cell_type": "code",
   "execution_count": null,
   "id": "b944d857",
   "metadata": {},
   "outputs": [],
   "source": []
  }
 ],
 "metadata": {
  "kernelspec": {
   "display_name": "Python 3 (ipykernel)",
   "language": "python",
   "name": "python3"
  },
  "language_info": {
   "codemirror_mode": {
    "name": "ipython",
    "version": 3
   },
   "file_extension": ".py",
   "mimetype": "text/x-python",
   "name": "python",
   "nbconvert_exporter": "python",
   "pygments_lexer": "ipython3",
   "version": "3.9.13"
  }
 },
 "nbformat": 4,
 "nbformat_minor": 5
}
